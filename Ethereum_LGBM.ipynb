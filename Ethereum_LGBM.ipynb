{
 "cells": [
  {
   "cell_type": "code",
   "execution_count": 1,
   "metadata": {},
   "outputs": [],
   "source": [
    "import numpy as np\n",
    "import pandas as pd\n",
    "import lightgbm as lgb\n",
    "from sklearn.model_selection import train_test_split\n",
    "from sklearn.metrics import roc_auc_score, f1_score, average_precision_score, confusion_matrix\n",
    "import matplotlib.pylab as plt"
   ]
  },
  {
   "cell_type": "code",
   "execution_count": 2,
   "metadata": {},
   "outputs": [],
   "source": [
    "df = pd.read_csv('ethereum_df1.csv')"
   ]
  },
  {
   "cell_type": "code",
   "execution_count": 3,
   "metadata": {},
   "outputs": [
    {
     "data": {
      "text/html": [
       "<div>\n",
       "<style scoped>\n",
       "    .dataframe tbody tr th:only-of-type {\n",
       "        vertical-align: middle;\n",
       "    }\n",
       "\n",
       "    .dataframe tbody tr th {\n",
       "        vertical-align: top;\n",
       "    }\n",
       "\n",
       "    .dataframe thead th {\n",
       "        text-align: right;\n",
       "    }\n",
       "</style>\n",
       "<table border=\"1\" class=\"dataframe\">\n",
       "  <thead>\n",
       "    <tr style=\"text-align: right;\">\n",
       "      <th></th>\n",
       "      <th>flag</th>\n",
       "      <th>sent_tnx</th>\n",
       "      <th>total_transactions_(including_tnx_to_create_contract</th>\n",
       "      <th>min_val_sent</th>\n",
       "      <th>received_tnx</th>\n",
       "      <th>avg_val_sent</th>\n",
       "      <th>avg_min_between_received_tnx</th>\n",
       "      <th>avg_val_received</th>\n",
       "      <th>min_value_received</th>\n",
       "      <th>unique_received_from_addresses</th>\n",
       "      <th>time_diff_between_first_and_last_(mins)</th>\n",
       "    </tr>\n",
       "  </thead>\n",
       "  <tbody>\n",
       "    <tr>\n",
       "      <th>0</th>\n",
       "      <td>0</td>\n",
       "      <td>721</td>\n",
       "      <td>810</td>\n",
       "      <td>0.00</td>\n",
       "      <td>89</td>\n",
       "      <td>1.200681</td>\n",
       "      <td>1093.71</td>\n",
       "      <td>6.589513</td>\n",
       "      <td>0.000000</td>\n",
       "      <td>40</td>\n",
       "      <td>704785.63</td>\n",
       "    </tr>\n",
       "    <tr>\n",
       "      <th>1</th>\n",
       "      <td>0</td>\n",
       "      <td>94</td>\n",
       "      <td>102</td>\n",
       "      <td>0.00</td>\n",
       "      <td>8</td>\n",
       "      <td>0.032844</td>\n",
       "      <td>2958.44</td>\n",
       "      <td>0.385685</td>\n",
       "      <td>0.000000</td>\n",
       "      <td>5</td>\n",
       "      <td>1218216.73</td>\n",
       "    </tr>\n",
       "    <tr>\n",
       "      <th>2</th>\n",
       "      <td>0</td>\n",
       "      <td>2</td>\n",
       "      <td>12</td>\n",
       "      <td>0.05</td>\n",
       "      <td>10</td>\n",
       "      <td>1.794308</td>\n",
       "      <td>2434.02</td>\n",
       "      <td>0.358906</td>\n",
       "      <td>0.113119</td>\n",
       "      <td>10</td>\n",
       "      <td>516729.30</td>\n",
       "    </tr>\n",
       "    <tr>\n",
       "      <th>3</th>\n",
       "      <td>0</td>\n",
       "      <td>25</td>\n",
       "      <td>34</td>\n",
       "      <td>0.00</td>\n",
       "      <td>9</td>\n",
       "      <td>70.001834</td>\n",
       "      <td>15785.09</td>\n",
       "      <td>99.488840</td>\n",
       "      <td>0.000000</td>\n",
       "      <td>7</td>\n",
       "      <td>397555.90</td>\n",
       "    </tr>\n",
       "    <tr>\n",
       "      <th>4</th>\n",
       "      <td>0</td>\n",
       "      <td>4598</td>\n",
       "      <td>4619</td>\n",
       "      <td>0.00</td>\n",
       "      <td>20</td>\n",
       "      <td>0.022688</td>\n",
       "      <td>10707.77</td>\n",
       "      <td>2.671095</td>\n",
       "      <td>0.000000</td>\n",
       "      <td>7</td>\n",
       "      <td>382472.42</td>\n",
       "    </tr>\n",
       "  </tbody>\n",
       "</table>\n",
       "</div>"
      ],
      "text/plain": [
       "   flag  sent_tnx  total_transactions_(including_tnx_to_create_contract  \\\n",
       "0     0       721                                                810      \n",
       "1     0        94                                                102      \n",
       "2     0         2                                                 12      \n",
       "3     0        25                                                 34      \n",
       "4     0      4598                                               4619      \n",
       "\n",
       "   min_val_sent  received_tnx  avg_val_sent  avg_min_between_received_tnx  \\\n",
       "0          0.00            89      1.200681                       1093.71   \n",
       "1          0.00             8      0.032844                       2958.44   \n",
       "2          0.05            10      1.794308                       2434.02   \n",
       "3          0.00             9     70.001834                      15785.09   \n",
       "4          0.00            20      0.022688                      10707.77   \n",
       "\n",
       "   avg_val_received  min_value_received  unique_received_from_addresses  \\\n",
       "0          6.589513            0.000000                              40   \n",
       "1          0.385685            0.000000                               5   \n",
       "2          0.358906            0.113119                              10   \n",
       "3         99.488840            0.000000                               7   \n",
       "4          2.671095            0.000000                               7   \n",
       "\n",
       "   time_diff_between_first_and_last_(mins)  \n",
       "0                                704785.63  \n",
       "1                               1218216.73  \n",
       "2                                516729.30  \n",
       "3                                397555.90  \n",
       "4                                382472.42  "
      ]
     },
     "execution_count": 3,
     "metadata": {},
     "output_type": "execute_result"
    }
   ],
   "source": [
    "df.head()"
   ]
  },
  {
   "cell_type": "code",
   "execution_count": 4,
   "metadata": {},
   "outputs": [
    {
     "data": {
      "text/plain": [
       "(9823, 11)"
      ]
     },
     "execution_count": 4,
     "metadata": {},
     "output_type": "execute_result"
    }
   ],
   "source": [
    "df.shape"
   ]
  },
  {
   "cell_type": "code",
   "execution_count": 5,
   "metadata": {},
   "outputs": [
    {
     "data": {
      "text/plain": [
       "((7858, 10), (1965, 10), (7858, 1), (1965, 1))"
      ]
     },
     "execution_count": 5,
     "metadata": {},
     "output_type": "execute_result"
    }
   ],
   "source": [
    "X = df.iloc[:,1:12] # All features column\n",
    "y = df.iloc[:,0:1] # flag columns\n",
    "\n",
    "X_train, X_test, y_train, y_test = train_test_split(X, y, test_size=0.2, random_state=42)\n",
    "X_train.shape, X_test.shape, y_train.shape, y_test.shape"
   ]
  },
  {
   "cell_type": "code",
   "execution_count": 6,
   "metadata": {},
   "outputs": [],
   "source": [
    "# LGBM function to read the data\n",
    "\n",
    "data_train = lgb.Dataset(X_train, label = y_train)\n",
    "data_test = lgb.Dataset(X_test, label = y_test)"
   ]
  },
  {
   "cell_type": "code",
   "execution_count": 7,
   "metadata": {},
   "outputs": [],
   "source": [
    "# Parameters specification for LGBM\n",
    "\n",
    "params = {'objective':'binary', # binary classification, default is regression\n",
    "          'metric':'auc',\n",
    "          'is_unbalance':'true', # data is imbalanced\n",
    "          'feature_fraction':0.5,\n",
    "          'force_col_wise':'true', # number of bin is large, reduce memory cost + advise from warning \n",
    "          'verbosity': 0\n",
    "             }"
   ]
  },
  {
   "cell_type": "code",
   "execution_count": 8,
   "metadata": {},
   "outputs": [
    {
     "name": "stdout",
     "output_type": "stream",
     "text": [
      "Training until validation scores don't improve for 15 rounds\n",
      "Early stopping, best iteration is:\n",
      "[92]\tvalid_0's auc: 0.982091\n"
     ]
    },
    {
     "data": {
      "text/plain": [
       "<lightgbm.basic.Booster at 0x22434c37ee0>"
      ]
     },
     "execution_count": 8,
     "metadata": {},
     "output_type": "execute_result"
    }
   ],
   "source": [
    "early_stop = lgb.early_stopping(15) # early_stopping_round deprecated, warning to use callback instead.\n",
    "\n",
    "model = lgb.train(params,\n",
    "                  data_train,\n",
    "                  num_boost_round = 1000,\n",
    "                  valid_sets = data_test,\n",
    "                  callbacks=[early_stop])\n",
    "\n",
    "model.save_model('model.txt', num_iteration=model.best_iteration)"
   ]
  },
  {
   "cell_type": "code",
   "execution_count": 9,
   "metadata": {},
   "outputs": [
    {
     "data": {
      "text/plain": [
       "<matplotlib.axes._subplots.AxesSubplot at 0x22434c27790>"
      ]
     },
     "execution_count": 9,
     "metadata": {},
     "output_type": "execute_result"
    },
    {
     "data": {
      "image/png": "[encoded data removed]",
      "text/plain": [
       "<Figure size 432x288 with 1 Axes>"
      ]
     },
     "metadata": {
      "needs_background": "light"
     },
     "output_type": "display_data"
    }
   ],
   "source": [
    "lgb.plot_importance(model)"
   ]
  },
  {
   "cell_type": "code",
   "execution_count": 10,
   "metadata": {},
   "outputs": [],
   "source": [
    "y_pred = model.predict(X_test, num_iteration=model.best_iteration)"
   ]
  },
  {
   "cell_type": "code",
   "execution_count": 11,
   "metadata": {},
   "outputs": [
    {
     "data": {
      "text/plain": [
       "0.9820913029223683"
      ]
     },
     "execution_count": 11,
     "metadata": {},
     "output_type": "execute_result"
    }
   ],
   "source": [
    "roc_auc_score(y_test, y_pred)"
   ]
  },
  {
   "cell_type": "code",
   "execution_count": 12,
   "metadata": {},
   "outputs": [
    {
     "data": {
      "text/plain": [
       "0.9476378386442129"
      ]
     },
     "execution_count": 12,
     "metadata": {},
     "output_type": "execute_result"
    }
   ],
   "source": [
    "average_precision_score(y_test, y_pred)"
   ]
  },
  {
   "cell_type": "code",
   "execution_count": 13,
   "metadata": {},
   "outputs": [
    {
     "data": {
      "text/plain": [
       "array([6.29484281e-03, 9.99169617e-01, 9.87093874e-04, ...,\n",
       "       9.99169617e-01, 1.63946294e-02, 2.54769138e-02])"
      ]
     },
     "execution_count": 13,
     "metadata": {},
     "output_type": "execute_result"
    }
   ],
   "source": [
    "y_pred \n",
    "# lgbm does not return 0 & 1, it returns probablility.\n",
    "# even if objective is set at binary and using predict instead of predict_proba\n",
    "# source stackoverflow + lgbm documentation\n",
    "# https://lightgbm.readthedocs.io/en/latest/R/reference/predict.lgb.Booster.html"
   ]
  },
  {
   "cell_type": "code",
   "execution_count": 14,
   "metadata": {},
   "outputs": [],
   "source": [
    "# Threshold optimization is for another day, how much false positive can we accept?\n",
    "\n",
    "y_pred_convert = np.where(y_pred>0.7, 1,0)"
   ]
  },
  {
   "cell_type": "code",
   "execution_count": 15,
   "metadata": {},
   "outputs": [
    {
     "data": {
      "text/plain": [
       "array([0, 1, 0, ..., 1, 0, 0])"
      ]
     },
     "execution_count": 15,
     "metadata": {},
     "output_type": "execute_result"
    }
   ],
   "source": [
    "y_pred_convert"
   ]
  },
  {
   "cell_type": "code",
   "execution_count": 16,
   "metadata": {},
   "outputs": [
    {
     "data": {
      "text/plain": [
       "0.8631840796019901"
      ]
     },
     "execution_count": 16,
     "metadata": {},
     "output_type": "execute_result"
    }
   ],
   "source": [
    "f1_score(y_test,y_pred_convert)"
   ]
  },
  {
   "cell_type": "code",
   "execution_count": 17,
   "metadata": {},
   "outputs": [
    {
     "data": {
      "text/plain": [
       "array([[1508,   55],\n",
       "       [  55,  347]], dtype=int64)"
      ]
     },
     "execution_count": 17,
     "metadata": {},
     "output_type": "execute_result"
    }
   ],
   "source": [
    "confusion_matrix(y_test, y_pred_convert)"
   ]
  },
  {
   "cell_type": "code",
   "execution_count": null,
   "metadata": {},
   "outputs": [],
   "source": []
  }
 ],
 "metadata": {
  "kernelspec": {
   "display_name": "Python 3",
   "language": "python",
   "name": "python3"
  },
  "language_info": {
   "codemirror_mode": {
    "name": "ipython",
    "version": 3
   },
   "file_extension": ".py",
   "mimetype": "text/x-python",
   "name": "python",
   "nbconvert_exporter": "python",
   "pygments_lexer": "ipython3",
   "version": "3.8.3"
  }
 },
 "nbformat": 4,
 "nbformat_minor": 4
}
